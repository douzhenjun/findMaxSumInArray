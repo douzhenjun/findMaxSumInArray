{
 "cells": [
  {
   "cell_type": "code",
   "execution_count": 3,
   "metadata": {},
   "outputs": [
    {
     "name": "stdout",
     "output_type": "stream",
     "text": [
      "a[0]\n",
      " 1.0\n",
      "a[a>0.5]\n",
      " 0    1.0\n",
      "dtype: float64\n",
      "a[a>0.5]\n",
      " 2    NaN\n",
      "1    0.3\n",
      "dtype: float64\n",
      "a.sum()\n",
      " 1.3\n"
     ]
    }
   ],
   "source": [
    "import pandas as pd\n",
    "import numpy as np\n",
    "\n",
    "a = pd.Series([1, 0.3, np.nan])\n",
    "b = pd.Series([np.array([1, 2, 3])])\n",
    "# print(\"a\\n\", a)\n",
    "# print(\"b\\n\", b)\n",
    "print(\"a[0]\\n\", a[0])\n",
    "print(\"a[a>0.5]\\n\", a[a>0.5])\n",
    "print(\"a[a>0.5]\\n\", a[[2,1]])\n",
    "print(\"a.sum()\\n\", a.sum())\n",
    "\n"
   ]
  },
  {
   "cell_type": "code",
   "execution_count": 6,
   "metadata": {},
   "outputs": [
    {
     "name": "stdout",
     "output_type": "stream",
     "text": [
      "DatetimeIndex(['2016-01-01', '2016-01-02', '2016-01-03', '2016-01-04',\n",
      "               '2016-01-05'],\n",
      "              dtype='datetime64[ns]', freq='D')\n",
      "                   A         B         C         D\n",
      "2016-01-01  1.987997  0.552629 -0.346439 -0.534007\n",
      "2016-01-02  0.140213 -0.437696  0.395388  0.494892\n",
      "2016-01-03 -1.430181  1.497004  1.187678  2.661296\n",
      "2016-01-04  1.430550 -0.343239 -0.625358  1.312496\n",
      "2016-01-05  1.867666 -0.079281  0.049146 -0.352142\n"
     ]
    }
   ],
   "source": [
    "import pandas as pd\n",
    "import numpy as np\n",
    "\n",
    "date = pd.date_range('20160101', periods=5)\n",
    "print(date)\n",
    "\n",
    "df = pd.DataFrame(np.random.randn(5,4), index=date, columns=list(\"ABCD\"))\n",
    "print(df)"
   ]
  },
  {
   "cell_type": "code",
   "execution_count": 10,
   "metadata": {},
   "outputs": [
    {
     "name": "stdout",
     "output_type": "stream",
     "text": [
      "     A          B    C  D   E    F\n",
      "0  2.0 2016-01-01  3.0  3  t1  abc\n",
      "1  2.0 2016-01-01  3.0  3  t2  abc\n",
      "2  2.0 2016-01-01  3.0  3  t3  abc\n",
      "3  2.0 2016-01-01  3.0  3  t4  abc\n",
      "A           float64\n",
      "B    datetime64[ns]\n",
      "C           float64\n",
      "D             int64\n",
      "E          category\n",
      "F            object\n",
      "dtype: object\n",
      "0    3.0\n",
      "1    3.0\n",
      "2    3.0\n",
      "3    3.0\n",
      "Name: C, dtype: float64\n"
     ]
    }
   ],
   "source": [
    "df2 = pd.DataFrame({\"A\": 2.,\n",
    "                   \"B\": pd.Timestamp('20160101'),\n",
    "                   \"C\": pd.Series(3, index=list(range(4)), dtype=\"float64\"),\n",
    "                   \"D\":np.array([3]*4, dtype=\"int64\"),\n",
    "                   \"E\":pd.Categorical([\"t1\", \"t2\", \"t3\", \"t4\"]),\n",
    "                   \"F\":'abc'})\n",
    "print(df2)\n",
    "print(df2.dtypes)\n",
    "print(df2.C)\n",
    "\n"
   ]
  },
  {
   "cell_type": "code",
   "execution_count": 12,
   "metadata": {},
   "outputs": [
    {
     "name": "stdout",
     "output_type": "stream",
     "text": [
      "                   A         B         C         D\n",
      "2016-01-01  0.792579  2.218661  0.983961 -1.990459\n",
      "2016-01-02  0.594141  1.322055 -1.219020  0.927075\n",
      "2016-01-03  0.220068 -1.106152  0.241358 -0.699528\n",
      "2016-01-04 -1.069016  0.215015  0.313362  0.098866\n",
      "2016-01-05  1.779233  1.285031  1.085026 -0.009103\n",
      "s1\n",
      " 2016-01-02    1\n",
      "2016-01-03    2\n",
      "2016-01-04    3\n",
      "2016-01-05    4\n",
      "Freq: D, dtype: int64\n",
      "df\n",
      "                    A         B         C         D    F\n",
      "2016-01-01  0.792579  2.218661  0.983961 -1.990459  NaN\n",
      "2016-01-02  0.594141  1.322055 -1.219020  0.927075  1.0\n",
      "2016-01-03  0.220068 -1.106152  0.241358 -0.699528  2.0\n",
      "2016-01-04 -1.069016  0.215015  0.313362  0.098866  3.0\n",
      "2016-01-05  1.779233  1.285031  1.085026 -0.009103  4.0\n",
      "df\n",
      "                    A         B         C         D    F\n",
      "2016-01-01  0.000000  2.218661  0.983961 -1.990459  NaN\n",
      "2016-01-02  0.594141  1.322055 -1.219020  0.927075  1.0\n",
      "2016-01-03  0.220068 -1.106152  0.241358 -0.699528  2.0\n",
      "2016-01-04 -1.069016  0.215015  0.313362  0.098866  3.0\n",
      "2016-01-05  1.779233  1.285031  1.085026 -0.009103  4.0\n",
      "df\n",
      "                    A         B         C  D    F\n",
      "2016-01-01  0.000000  2.218661  0.983961  5  NaN\n",
      "2016-01-02  0.594141  1.322055 -1.219020  5  1.0\n",
      "2016-01-03  0.220068 -1.106152  0.241358  5  2.0\n",
      "2016-01-04 -1.069016  0.215015  0.313362  5  3.0\n",
      "2016-01-05  1.779233  1.285031  1.085026  5  4.0\n"
     ]
    }
   ],
   "source": [
    "df = pd.DataFrame(np.random.randn(5,4), index=date, columns=list(\"ABCD\"))\n",
    "print(df)\n",
    "\n",
    "s1 = pd.Series([1, 2, 3, 4], index=pd.date_range(\"20160102\", periods=4))\n",
    "print(\"s1\\n\", s1)\n",
    "df[\"F\"] = s1\n",
    "print(\"df\\n\", df)\n",
    "df.at[date[0], \"A\"] = 0\n",
    "print(\"df\\n\", df)\n",
    "df.loc[:, \"D\"] = np.array\n",
    "print(\"df\\n\", df)"
   ]
  },
  {
   "cell_type": "code",
   "execution_count": null,
   "metadata": {
    "collapsed": true
   },
   "outputs": [],
   "source": []
  }
 ],
 "metadata": {
  "kernelspec": {
   "display_name": "Python 3",
   "language": "python",
   "name": "python3"
  },
  "language_info": {
   "codemirror_mode": {
    "name": "ipython",
    "version": 3
   },
   "file_extension": ".py",
   "mimetype": "text/x-python",
   "name": "python",
   "nbconvert_exporter": "python",
   "pygments_lexer": "ipython3",
   "version": "3.6.3"
  }
 },
 "nbformat": 4,
 "nbformat_minor": 2
}
